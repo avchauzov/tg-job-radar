{
 "cells": [
  {
   "cell_type": "code",
   "execution_count": null,
   "id": "initial_id",
   "metadata": {},
   "outputs": [],
   "source": [
    "import os\n",
    "\n",
    "from dotenv import load_dotenv\n",
    "from telethon import TelegramClient\n",
    "from telethon.tl.functions.messages import GetHistoryRequest\n",
    "\n",
    "\n",
    "load_dotenv()"
   ]
  },
  {
   "cell_type": "code",
   "execution_count": null,
   "id": "8b8cfa98-8af2-43c2-b239-f98b89454b66",
   "metadata": {},
   "outputs": [],
   "source": [
    "api_id = os.getenv('TG_API_ID')\n",
    "api_hash = os.getenv('TG_API_HASH')\n",
    "phone_number = os.getenv('PHONE_NUMBER')\n",
    "\n",
    "session_name = 'main'"
   ]
  },
  {
   "cell_type": "code",
   "execution_count": null,
   "id": "fe3ba306-0eb7-4914-a39e-529afe97e3e9",
   "metadata": {},
   "outputs": [],
   "source": [
    "async def get_channel_posts(channel_username, limit=100):\n",
    "\tasync with client:\n",
    "\t\t# Get the channel entity\n",
    "\t\tchannel = await client.get_entity(channel_username)\n",
    "\t\t\n",
    "\t\t# Fetch the channel's history\n",
    "\t\thistory = await client(\n",
    "\t\t\t\tGetHistoryRequest(\n",
    "\t\t\t\t\t\tpeer=channel,\n",
    "\t\t\t\t\t\tlimit=limit,\n",
    "\t\t\t\t\t\toffset_date=None,\n",
    "\t\t\t\t\t\toffset_id=0,\n",
    "\t\t\t\t\t\tmax_id=0,\n",
    "\t\t\t\t\t\tmin_id=0,\n",
    "\t\t\t\t\t\tadd_offset=0,\n",
    "\t\t\t\t\t\thash=0\n",
    "\t\t\t\t\t\t)\n",
    "\t\t\t\t)\n",
    "\t\t\n",
    "\t\t# Extract and return the messages\n",
    "\t\tmessages = []\n",
    "\t\tfor message in history.messages:\n",
    "\t\t\tmessages.append(message.message)\n",
    "\t\t\n",
    "\t\treturn messages"
   ]
  },
  {
   "cell_type": "code",
   "execution_count": null,
   "id": "f686c5bc-751a-4421-a90f-829d693b173b",
   "metadata": {},
   "outputs": [],
   "source": [
    "client = TelegramClient(session_name, api_id, api_hash)\n",
    "channel_username = 'cryptojobslist'\n",
    "\n",
    "\n",
    "async def main():\n",
    "\tawait client.start(phone=phone_number)\n",
    "\tprint(\"You're connected!\")\n",
    "\t\n",
    "\tposts = await get_channel_posts(channel_username, limit=128)\n",
    "\t\n",
    "\tfor post in posts:\n",
    "\t\tprint(post)\n",
    "\t\tprint()\n",
    "\n",
    "\n",
    "await main()"
   ]
  },
  {
   "cell_type": "code",
   "execution_count": null,
   "id": "a844c915-f874-4def-a17a-1e813500cd06",
   "metadata": {},
   "outputs": [],
   "source": []
  }
 ],
 "metadata": {
  "kernelspec": {
   "display_name": "Python 3 (ipykernel)",
   "language": "python",
   "name": "python3"
  },
  "language_info": {
   "codemirror_mode": {
    "name": "ipython",
    "version": 3
   },
   "file_extension": ".py",
   "mimetype": "text/x-python",
   "name": "python",
   "nbconvert_exporter": "python",
   "pygments_lexer": "ipython3",
   "version": "3.11.9"
  }
 },
 "nbformat": 4,
 "nbformat_minor": 5
}
